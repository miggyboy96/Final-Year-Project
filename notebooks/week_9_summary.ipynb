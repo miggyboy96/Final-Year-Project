{
 "cells": [
  {
   "cell_type": "markdown",
   "source": [
    "Week 9 Summary\n",
    "\n",
    "# Clusters of eQTLs linked to regulatory genes\n",
    "Here is the heatmap we visualised last week."
   ],
   "metadata": {
    "collapsed": false
   },
   "id": "adf7fe07d66c6182"
  },
  {
   "cell_type": "code",
   "execution_count": 6,
   "outputs": [
    {
     "ename": "ERROR",
     "evalue": "Error in eval(expr, envir, enclos): object 'grn_effect_pheatmap' not found\n",
     "output_type": "error",
     "traceback": [
      "Error in eval(expr, envir, enclos): object 'grn_effect_pheatmap' not found\nTraceback:\n",
      "1. print(grn_effect_pheatmap)"
     ]
    }
   ],
   "source": [
    "print(grn_effect_pheatmap)"
   ],
   "metadata": {
    "collapsed": false,
    "ExecuteTime": {
     "end_time": "2023-11-29T14:27:12.890485400Z",
     "start_time": "2023-11-29T14:27:12.869048400Z"
    }
   },
   "id": "27fce4e015faae82"
  }
 ],
 "metadata": {
  "kernelspec": {
   "display_name": "R",
   "language": "R",
   "name": "ir"
  },
  "language_info": {
   "codemirror_mode": "r",
   "file_extension": ".r",
   "mimetype": "text/x-r-source",
   "name": "R",
   "pygments_lexer": "r",
   "version": "4.3.2"
  }
 },
 "nbformat": 4,
 "nbformat_minor": 5
}
