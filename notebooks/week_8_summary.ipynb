{
 "cells": [
  {
   "cell_type": "markdown",
   "source": [
    "# Week 8 Summary\n",
    "1. Presentation slides.\n",
    "2. Heatmap visualisation.\n",
    "\n",
    "Following the eQTL analysis results, I have made little progress in further analysis. While preparing for the upcoming presentation, I pondered on what observations and hypothesis I can infer from the data I have now. \n",
    "\n",
    "## Are there clusters of eQTLs that are linked to regulatory genes?\n",
    "Recall the format of the eQTL results."
   ],
   "metadata": {
    "collapsed": false
   },
   "id": "450a9c3c116a3e08"
  },
  {
   "cell_type": "code",
   "execution_count": 1,
   "outputs": [
    {
     "name": "stderr",
     "output_type": "stream",
     "text": [
      "Rows read: 876 done.\n",
      "\n",
      "Rows read: 2,000\n",
      "\n",
      "Rows read: 4,000\n",
      "\n",
      "Rows read: 6,000\n",
      "\n",
      "Rows read: 8,000\n",
      "\n",
      "Rows read: 10,000\n",
      "\n",
      "Rows read: 12,000\n",
      "\n",
      "Rows read: 14,000\n",
      "\n",
      "Rows read: 16,000\n",
      "\n",
      "Rows read: 18,000\n",
      "\n",
      "Rows read: 19208 done.\n",
      "\n",
      "Matching data files and location files\n",
      "\n",
      "18959 of 19208 genes matched\n",
      "\n",
      "876 of 876 SNPs matched\n",
      "\n",
      "\n",
      "Task finished in 0 seconds\n",
      "\n",
      "Reordering genes\n",
      "\n",
      "Task finished in 0.2 seconds\n",
      "\n",
      "Processing covariates\n",
      "\n",
      "Task finished in 0.01 seconds\n",
      "\n",
      "Processing gene expression data (imputation, residualization)\n",
      "\n",
      "Task finished in 0.07 seconds\n",
      "\n",
      "Creating output file(s)\n",
      "\n",
      "Task finished in 0.04 seconds\n",
      "\n",
      "Performing eQTL analysis\n",
      "\n",
      "10.00% done, 4,326 cis-eQTLs, 186,886 trans-eQTLs\n",
      "\n",
      "19.99% done, 9,745 cis-eQTLs, 371,856 trans-eQTLs\n",
      "\n",
      "30.00% done, 14,032 cis-eQTLs, 557,763 trans-eQTLs\n",
      "\n",
      "39.99% done, 16,420 cis-eQTLs, 747,548 trans-eQTLs\n",
      "\n",
      "50.00% done, 19,773 cis-eQTLs, 935,406 trans-eQTLs\n",
      "\n",
      "60.00% done, 26,166 cis-eQTLs, 1,123,282 trans-eQTLs\n",
      "\n",
      "70.00% done, 30,760 cis-eQTLs, 1,313,690 trans-eQTLs\n",
      "\n",
      "80.00% done, 34,564 cis-eQTLs, 1,500,646 trans-eQTLs\n",
      "\n",
      "89.99% done, 39,593 cis-eQTLs, 1,687,509 trans-eQTLs\n",
      "\n",
      "100.00% done, 41,276 cis-eQTLs, 1,783,864 trans-eQTLs\n",
      "\n",
      "Task finished in 29.93 seconds\n",
      "\n",
      "\n",
      "\n"
     ]
    },
    {
     "data": {
      "text/html": "<table class=\"dataframe\">\n<caption>A data.frame: 6 × 6</caption>\n<thead>\n\t<tr><th></th><th scope=col>SNP</th><th scope=col>gene</th><th scope=col>beta</th><th scope=col>t.stat</th><th scope=col>p.value</th><th scope=col>FDR</th></tr>\n\t<tr><th></th><th scope=col>&lt;chr&gt;</th><th scope=col>&lt;chr&gt;</th><th scope=col>&lt;dbl&gt;</th><th scope=col>&lt;dbl&gt;</th><th scope=col>&lt;dbl&gt;</th><th scope=col>&lt;dbl&gt;</th></tr>\n</thead>\n<tbody>\n\t<tr><th scope=row>1</th><td>snp_42  </td><td>AT1G08930</td><td>343.56980</td><td> 36.75741</td><td>2.812966e-44</td><td>8.479489e-39</td></tr>\n\t<tr><th scope=row>2</th><td>snp_42  </td><td>AT1G09940</td><td> 18.41343</td><td> 28.41751</td><td>1.235921e-37</td><td>1.862798e-32</td></tr>\n\t<tr><th scope=row>3</th><td>snp_1328</td><td>AT4G16860</td><td> 31.71452</td><td> 27.52106</td><td>8.028240e-37</td><td>6.050142e-32</td></tr>\n\t<tr><th scope=row>4</th><td>snp_1326</td><td>AT4G16860</td><td>-31.71452</td><td>-27.52106</td><td>8.028240e-37</td><td>6.050142e-32</td></tr>\n\t<tr><th scope=row>5</th><td>snp_1841</td><td>AT5G47910</td><td>-70.69076</td><td>-27.16917</td><td>1.697322e-36</td><td>1.023292e-31</td></tr>\n\t<tr><th scope=row>6</th><td>snp_42  </td><td>AT1G07135</td><td>485.45145</td><td> 26.24286</td><td>1.267625e-35</td><td>6.368614e-31</td></tr>\n</tbody>\n</table>\n",
      "text/markdown": "\nA data.frame: 6 × 6\n\n| <!--/--> | SNP &lt;chr&gt; | gene &lt;chr&gt; | beta &lt;dbl&gt; | t.stat &lt;dbl&gt; | p.value &lt;dbl&gt; | FDR &lt;dbl&gt; |\n|---|---|---|---|---|---|---|\n| 1 | snp_42   | AT1G08930 | 343.56980 |  36.75741 | 2.812966e-44 | 8.479489e-39 |\n| 2 | snp_42   | AT1G09940 |  18.41343 |  28.41751 | 1.235921e-37 | 1.862798e-32 |\n| 3 | snp_1328 | AT4G16860 |  31.71452 |  27.52106 | 8.028240e-37 | 6.050142e-32 |\n| 4 | snp_1326 | AT4G16860 | -31.71452 | -27.52106 | 8.028240e-37 | 6.050142e-32 |\n| 5 | snp_1841 | AT5G47910 | -70.69076 | -27.16917 | 1.697322e-36 | 1.023292e-31 |\n| 6 | snp_42   | AT1G07135 | 485.45145 |  26.24286 | 1.267625e-35 | 6.368614e-31 |\n\n",
      "text/latex": "A data.frame: 6 × 6\n\\begin{tabular}{r|llllll}\n  & SNP & gene & beta & t.stat & p.value & FDR\\\\\n  & <chr> & <chr> & <dbl> & <dbl> & <dbl> & <dbl>\\\\\n\\hline\n\t1 & snp\\_42   & AT1G08930 & 343.56980 &  36.75741 & 2.812966e-44 & 8.479489e-39\\\\\n\t2 & snp\\_42   & AT1G09940 &  18.41343 &  28.41751 & 1.235921e-37 & 1.862798e-32\\\\\n\t3 & snp\\_1328 & AT4G16860 &  31.71452 &  27.52106 & 8.028240e-37 & 6.050142e-32\\\\\n\t4 & snp\\_1326 & AT4G16860 & -31.71452 & -27.52106 & 8.028240e-37 & 6.050142e-32\\\\\n\t5 & snp\\_1841 & AT5G47910 & -70.69076 & -27.16917 & 1.697322e-36 & 1.023292e-31\\\\\n\t6 & snp\\_42   & AT1G07135 & 485.45145 &  26.24286 & 1.267625e-35 & 6.368614e-31\\\\\n\\end{tabular}\n",
      "text/plain": "  SNP      gene      beta      t.stat    p.value      FDR         \n1 snp_42   AT1G08930 343.56980  36.75741 2.812966e-44 8.479489e-39\n2 snp_42   AT1G09940  18.41343  28.41751 1.235921e-37 1.862798e-32\n3 snp_1328 AT4G16860  31.71452  27.52106 8.028240e-37 6.050142e-32\n4 snp_1326 AT4G16860 -31.71452 -27.52106 8.028240e-37 6.050142e-32\n5 snp_1841 AT5G47910 -70.69076 -27.16917 1.697322e-36 1.023292e-31\n6 snp_42   AT1G07135 485.45145  26.24286 1.267625e-35 6.368614e-31"
     },
     "metadata": {},
     "output_type": "display_data"
    }
   ],
   "source": [
    "wd <- 'C:/Users/migue/Documents/Projects/Natural Sciences Interdisciplinary Project/project'\n",
    "setwd(wd)\n",
    "source(file = 'code/eqtl_analysis.R')\n",
    "\n",
    "head(output_eqtl)"
   ],
   "metadata": {
    "collapsed": false,
    "ExecuteTime": {
     "end_time": "2023-11-27T02:26:17.973450700Z",
     "start_time": "2023-11-27T02:25:17.052617700Z"
    }
   },
   "id": "e64978a719490cdd"
  },
  {
   "cell_type": "markdown",
   "source": [
    "I then imported Ethan's GRN, and subsetted the df to only include regulatory genes."
   ],
   "metadata": {
    "collapsed": false
   },
   "id": "38b0cdee97a5628"
  },
  {
   "cell_type": "code",
   "execution_count": 2,
   "outputs": [
    {
     "data": {
      "text/html": "<table class=\"dataframe\">\n<caption>A tibble: 6 × 3</caption>\n<thead>\n\t<tr><th scope=col>weight</th><th scope=col>regulatory gene</th><th scope=col>target gene</th></tr>\n\t<tr><th scope=col>&lt;dbl&gt;</th><th scope=col>&lt;chr&gt;</th><th scope=col>&lt;chr&gt;</th></tr>\n</thead>\n<tbody>\n\t<tr><td>0.17116523</td><td>AT3G25990</td><td>AT5G48500</td></tr>\n\t<tr><td>0.05560764</td><td>AT3G25990</td><td>AT1G34260</td></tr>\n\t<tr><td>0.10075060</td><td>AT3G25990</td><td>AT1G59820</td></tr>\n\t<tr><td>0.04651452</td><td>AT3G25990</td><td>AT1G13020</td></tr>\n\t<tr><td>0.08755182</td><td>AT3G25990</td><td>AT1G75220</td></tr>\n\t<tr><td>0.04639002</td><td>AT3G25990</td><td>AT2G31990</td></tr>\n</tbody>\n</table>\n",
      "text/markdown": "\nA tibble: 6 × 3\n\n| weight &lt;dbl&gt; | regulatory gene &lt;chr&gt; | target gene &lt;chr&gt; |\n|---|---|---|\n| 0.17116523 | AT3G25990 | AT5G48500 |\n| 0.05560764 | AT3G25990 | AT1G34260 |\n| 0.10075060 | AT3G25990 | AT1G59820 |\n| 0.04651452 | AT3G25990 | AT1G13020 |\n| 0.08755182 | AT3G25990 | AT1G75220 |\n| 0.04639002 | AT3G25990 | AT2G31990 |\n\n",
      "text/latex": "A tibble: 6 × 3\n\\begin{tabular}{lll}\n weight & regulatory gene & target gene\\\\\n <dbl> & <chr> & <chr>\\\\\n\\hline\n\t 0.17116523 & AT3G25990 & AT5G48500\\\\\n\t 0.05560764 & AT3G25990 & AT1G34260\\\\\n\t 0.10075060 & AT3G25990 & AT1G59820\\\\\n\t 0.04651452 & AT3G25990 & AT1G13020\\\\\n\t 0.08755182 & AT3G25990 & AT1G75220\\\\\n\t 0.04639002 & AT3G25990 & AT2G31990\\\\\n\\end{tabular}\n",
      "text/plain": "  weight     regulatory gene target gene\n1 0.17116523 AT3G25990       AT5G48500  \n2 0.05560764 AT3G25990       AT1G34260  \n3 0.10075060 AT3G25990       AT1G59820  \n4 0.04651452 AT3G25990       AT1G13020  \n5 0.08755182 AT3G25990       AT1G75220  \n6 0.04639002 AT3G25990       AT2G31990  "
     },
     "metadata": {},
     "output_type": "display_data"
    },
    {
     "name": "stdout",
     "output_type": "stream",
     "text": [
      "[1] \"44 unique regulatory genes and 411 unique SNPs in subset_output_eqtl\"\n"
     ]
    }
   ],
   "source": [
    "library(readxl)\n",
    "\n",
    "gene_regulatory_network <- read_excel(path = 'data/raw/media-10.xlsx')\n",
    "regulatory_genes <- unique(gene_regulatory_network$`regulatory gene`)\n",
    "\n",
    "subset_output_eqtl <- output_eqtl[which(output_eqtl$gene %in% regulatory_genes),]\n",
    "\n",
    "head(gene_regulatory_network)\n",
    "print(paste(length(regulatory_genes),\"unique regulatory genes and\",length(unique(subset_output_eqtl$SNP)),\"unique SNPs in subset_output_eqtl\", sep = \" \"))"
   ],
   "metadata": {
    "collapsed": false,
    "ExecuteTime": {
     "end_time": "2023-11-27T02:26:18.173940400Z",
     "start_time": "2023-11-27T02:26:17.989400500Z"
    }
   },
   "id": "44b71222a97e19ab"
  },
  {
   "cell_type": "markdown",
   "source": [
    "It was difficult thinking about how to subset the SNPs. I decided upon subsetting by the most frequent SNPs (i.e. has most number of connections to genes)."
   ],
   "metadata": {
    "collapsed": false
   },
   "id": "47872b977fd044a4"
  },
  {
   "cell_type": "code",
   "execution_count": 3,
   "outputs": [
    {
     "name": "stdout",
     "output_type": "stream",
     "text": [
      "[1] \"44 unique regulatory genes and 100 unique SNPs in subset_output_eqtl\"\n"
     ]
    }
   ],
   "source": [
    "snp_table<- table(subset_output_eqtl$SNP) # Tables number of regulatory genes each snp is associated with\n",
    "snp_table <- snp_table[order(-snp_table)] # Descending order\n",
    "connected_snps <- unlist(dimnames(snp_table[1:100])) # 100 most connected snps\n",
    "subset_output_eqtl <- subset_output_eqtl[which(subset_output_eqtl$SNP %in% connected_snps),] # Subset for connected snps\n",
    "\n",
    "print(paste(length(regulatory_genes),\"unique regulatory genes and\",length(unique(subset_output_eqtl$SNP)),\"unique SNPs in subset_output_eqtl\", sep = \" \"))"
   ],
   "metadata": {
    "collapsed": false,
    "ExecuteTime": {
     "end_time": "2023-11-27T02:26:18.236970400Z",
     "start_time": "2023-11-27T02:26:18.189978800Z"
    }
   },
   "id": "f1a8d72e7ae6187d"
  },
  {
   "cell_type": "markdown",
   "source": [
    "Now I had a suitable size of data to construct a heatmap."
   ],
   "metadata": {
    "collapsed": false
   },
   "id": "d61eaffbfb57768c"
  },
  {
   "cell_type": "code",
   "execution_count": 4,
   "outputs": [
    {
     "name": "stderr",
     "output_type": "stream",
     "text": [
      "Loading required package: viridisLite\n",
      "\n"
     ]
    },
    {
     "data": {
      "text/plain": "plot without title",
      "image/png": "[encoded data removed]"
     },
     "metadata": {
      "image/png": {
       "width": 420,
       "height": 420
      }
     },
     "output_type": "display_data"
    }
   ],
   "source": [
    "## Create the adjacency matrix.\n",
    "adj_mat <- matrix(\n",
    "    data = 0,\n",
    "    dimnames = list(regulatory_genes, connected_snps),\n",
    "    nrow = length(regulatory_genes), ncol = length(connected_snps)\n",
    "  )\n",
    "for (i in seq(nrow(subset_output_eqtl))){\n",
    "    snp <- subset_output_eqtl$SNP[i]\n",
    "    gene <- subset_output_eqtl$gene[i]\n",
    "    logp <- -log(subset_output_eqtl$p.value[i], base = 10)\n",
    "    adj_mat[gene,snp] <- logp\n",
    "}\n",
    "\n",
    "## Load packages\n",
    "library(pheatmap)\n",
    "library(viridis)\n",
    "\n",
    "## Visualise heatmap\n",
    "pheatmap(adj_mat, magma(80))"
   ],
   "metadata": {
    "collapsed": false,
    "ExecuteTime": {
     "end_time": "2023-11-27T02:26:18.874128Z",
     "start_time": "2023-11-27T02:26:18.221256Z"
    }
   },
   "id": "4c9809dc73d4cbf0"
  },
  {
   "cell_type": "markdown",
   "source": [
    "You can see on the heatmap that there is a cluster on the middle-bottom left*.\n",
    "## Plan for next week\n",
    "1. Obtain the SNPs in the cluster (*), find the associated gene they are located within and its description. Make one of the first biological conclusions of the project.\n",
    "2. Add figure to presentation and explain.\n",
    "3. Include 1. in the presentation.\n",
    "4. Add to presentation: elastic net and next steps, bigger picture and real-world application"
   ],
   "metadata": {
    "collapsed": false
   },
   "id": "543f3a51fa82224b"
  },
  {
   "cell_type": "code",
   "execution_count": null,
   "outputs": [],
   "source": [
    "!jupyter nbconvert --to html week_8_summary.ipynb"
   ],
   "metadata": {
    "collapsed": false,
    "is_executing": true
   },
   "id": "7af2527e07770afb"
  },
  {
   "cell_type": "code",
   "execution_count": null,
   "outputs": [],
   "source": [],
   "metadata": {
    "collapsed": false
   },
   "id": "8b123826ec75a95f"
  }
 ],
 "metadata": {
  "kernelspec": {
   "display_name": "R",
   "language": "R",
   "name": "ir"
  },
  "language_info": {
   "codemirror_mode": "r",
   "file_extension": ".r",
   "mimetype": "text/x-r-source",
   "name": "R",
   "pygments_lexer": "r",
   "version": "4.3.2"
  }
 },
 "nbformat": 4,
 "nbformat_minor": 5
}
